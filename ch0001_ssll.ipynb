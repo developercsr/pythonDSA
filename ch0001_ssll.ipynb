{
 "cells": [
  {
   "cell_type": "code",
   "execution_count": 227,
   "metadata": {},
   "outputs": [],
   "source": [
    "class Node:\n",
    "    def __init__(self,data):\n",
    "        self.data=data\n",
    "        self.next=None\n",
    "        print(\"Object is created\")\n",
    "    def __str__(self):\n",
    "        return str(self.data)"
   ]
  },
  {
   "cell_type": "code",
   "execution_count": 228,
   "metadata": {},
   "outputs": [],
   "source": [
    "class sll:\n",
    "    _instance=None\n",
    "    def __init__(self):\n",
    "        self.head=None\n",
    "    def __new__(self):\n",
    "        print(self._instance)\n",
    "        if self._instance is None:\n",
    "            self._instance = super(sll, self).__new__(self)\n",
    "            self._instance.head = None\n",
    "        else:\n",
    "            print(\"Linked list already exists! Using the existing instance.\")\n",
    "        return self._instance\n",
    "\n",
    "    def __len__(self):\n",
    "        length=0\n",
    "        if self.head==0:\n",
    "            return length\n",
    "        else:\n",
    "            temp=self.head\n",
    "            while temp:\n",
    "                length+=1\n",
    "                temp=temp.next\n",
    "        return length\n",
    "\n",
    "    def appending_at_strat(self,fnode):\n",
    "        if len(self)==0:\n",
    "            self.head=fnode\n",
    "        else:\n",
    "            temp=self.head\n",
    "            self.head=fnode\n",
    "            fnode.next=temp\n",
    "        self.transverse()\n",
    "\n",
    "    def append_at_last(self,lnode):\n",
    "        if (len(self)==0):\n",
    "            self.head=lnode\n",
    "        elif(len(self)==1):\n",
    "            self.head.next=lnode\n",
    "        else:\n",
    "            temp=self.head\n",
    "            while temp.next:\n",
    "                temp=temp.next\n",
    "            temp.next=lnode\n",
    "        self.transverse()\n",
    "\n",
    "    def is_present(self,val):\n",
    "        temp=self.head\n",
    "        while temp:\n",
    "            if temp.data==val:\n",
    "                return True\n",
    "            temp=temp.next\n",
    "        return False\n",
    "\n",
    "    def inserting_in_middle(self,node,index):\n",
    "        length=len(self)\n",
    "        if(index==0):\n",
    "            self.appending_at_strat(node)\n",
    "        elif(index==length):\n",
    "            self.append_at_last(node)\n",
    "        elif(index>length+1):\n",
    "            print(\"Not Posiible\")\n",
    "        elif(index<0):\n",
    "            print(\"Negative index is not possible!\")\n",
    "        else:\n",
    "            temp=self.head\n",
    "            index_pointer=1\n",
    "            while temp.next:\n",
    "                if(index_pointer==index):\n",
    "                    break\n",
    "                temp=temp.next\n",
    "                index_pointer+=1\n",
    "            orginal=temp.next\n",
    "            temp.next=node\n",
    "            node.next=orginal\n",
    "            self.transverse()\n",
    "    def delete_at_strat(self):\n",
    "        temp=self.head\n",
    "        self.head=temp.next\n",
    "        del temp\n",
    "        self.transverse()\n",
    "\n",
    "    def delete_at_end(self):\n",
    "        temp=self.head\n",
    "        while temp.next.next:\n",
    "            temp=temp.next\n",
    "        temp.next=None\n",
    "        self.transverse()\n",
    "    def delete_at_index(self,index):\n",
    "        if(index==0):\n",
    "            self.delete_at_strat()\n",
    "        elif(index==len(self)-1):\n",
    "            self.delete_at_end()\n",
    "        elif(index<0 or index>=len(self)):\n",
    "            print(\"NOT POSSIBLE\")\n",
    "        else:\n",
    "            temp=self.head\n",
    "            index_pointer=1\n",
    "            while temp:\n",
    "                if(index_pointer>index):\n",
    "                    break\n",
    "                temp=temp.next\n",
    "                index_pointer+=1\n",
    "            temp.next=temp.next.next\n",
    "            self.transverse()\n",
    "    def delete_sll(self):\n",
    "        try:\n",
    "            del self\n",
    "            print(\"deleted Successfully !\")\n",
    "        except Exception as e:\n",
    "            print(\"Error Occured!\"+str(e))\n",
    "    def transverse(self):\n",
    "        if self.head==None:\n",
    "            print(\" Single Linked List is Empty! \")\n",
    "        else:\n",
    "            temp=self.head\n",
    "            while temp.next:\n",
    "                print(temp.data,\" ---> \",end=\"\")\n",
    "                temp=temp.next\n",
    "            print(temp.data)\n",
    "\n",
    "    def element_at_index(self,val):\n",
    "        temp=self.head\n",
    "        index_at=0\n",
    "        while temp:\n",
    "            if temp.data==val:\n",
    "                return index_at\n",
    "            index_at+=1\n",
    "            temp=temp.next\n",
    "        return \"NA\"\n",
    "\n",
    "    def reverse_print(self):\n",
    "        previous = None\n",
    "        current = self.head\n",
    "        while current:\n",
    "            next_node = current.next\n",
    "            current.next = previous\n",
    "            previous = current\n",
    "            current = next_node\n",
    "        self.head = previous\n",
    "        self.transverse()"
   ]
  },
  {
   "cell_type": "code",
   "execution_count": 229,
   "metadata": {},
   "outputs": [
    {
     "name": "stdout",
     "output_type": "stream",
     "text": [
      "None\n"
     ]
    }
   ],
   "source": [
    "sll1=sll()"
   ]
  },
  {
   "cell_type": "code",
   "execution_count": 230,
   "metadata": {},
   "outputs": [
    {
     "name": "stdout",
     "output_type": "stream",
     "text": [
      "Object is created\n",
      "Object is created\n",
      "Object is created\n",
      "Object is created\n",
      "1  ---> 2  ---> 3  ---> [1, 2, 3, 4, 5, 6, 7, 8, 9, 0]\n",
      "4\n"
     ]
    }
   ],
   "source": [
    "n1=Node(1)\n",
    "n2=Node(2)\n",
    "n3=Node(3)\n",
    "n4=Node([1,2,3,4,5,6,7,8,9,0])\n",
    "sll1.head=n1\n",
    "n1.next=n2\n",
    "n2.next=n3\n",
    "n3.next=n4\n",
    "sll1.transverse()\n",
    "print(len(sll1))"
   ]
  },
  {
   "cell_type": "code",
   "execution_count": 231,
   "metadata": {},
   "outputs": [
    {
     "name": "stdout",
     "output_type": "stream",
     "text": [
      "Object is created\n",
      "5  ---> 1  ---> 2  ---> 3  ---> [1, 2, 3, 4, 5, 6, 7, 8, 9, 0]\n"
     ]
    }
   ],
   "source": [
    "n5=Node(5)\n",
    "sll1.appending_at_strat(n5)"
   ]
  },
  {
   "cell_type": "code",
   "execution_count": 232,
   "metadata": {},
   "outputs": [
    {
     "name": "stdout",
     "output_type": "stream",
     "text": [
      "Object is created\n",
      "5  ---> 1  ---> 2  ---> 3  ---> [1, 2, 3, 4, 5, 6, 7, 8, 9, 0]  ---> 6\n"
     ]
    }
   ],
   "source": [
    "sll1.append_at_last(Node(6))"
   ]
  },
  {
   "cell_type": "code",
   "execution_count": 233,
   "metadata": {},
   "outputs": [
    {
     "name": "stdout",
     "output_type": "stream",
     "text": [
      "Object is created\n",
      "1.5  ---> 5  ---> 1  ---> 2  ---> 3  ---> [1, 2, 3, 4, 5, 6, 7, 8, 9, 0]  ---> 6\n"
     ]
    }
   ],
   "source": [
    "sll1.inserting_in_middle(Node(1.5),0)"
   ]
  },
  {
   "cell_type": "code",
   "execution_count": 234,
   "metadata": {},
   "outputs": [
    {
     "data": {
      "text/plain": [
       "7"
      ]
     },
     "execution_count": 234,
     "metadata": {},
     "output_type": "execute_result"
    }
   ],
   "source": [
    "len(sll1)"
   ]
  },
  {
   "cell_type": "code",
   "execution_count": 235,
   "metadata": {},
   "outputs": [
    {
     "name": "stdout",
     "output_type": "stream",
     "text": [
      "Object is created\n",
      "1.5  ---> 5  ---> 1  ---> 2  ---> 12  ---> 3  ---> [1, 2, 3, 4, 5, 6, 7, 8, 9, 0]  ---> 6\n"
     ]
    }
   ],
   "source": [
    "sll1.inserting_in_middle(Node(12),4)"
   ]
  },
  {
   "cell_type": "code",
   "execution_count": 236,
   "metadata": {},
   "outputs": [
    {
     "name": "stdout",
     "output_type": "stream",
     "text": [
      "Object is created\n",
      "1.5  ---> 5  ---> 1  ---> 2  ---> 1.5  ---> 12  ---> 3  ---> [1, 2, 3, 4, 5, 6, 7, 8, 9, 0]  ---> 6\n"
     ]
    }
   ],
   "source": [
    "sll1.inserting_in_middle(Node(1.5),4)"
   ]
  },
  {
   "cell_type": "code",
   "execution_count": 237,
   "metadata": {},
   "outputs": [
    {
     "name": "stdout",
     "output_type": "stream",
     "text": [
      "5  ---> 1  ---> 2  ---> 1.5  ---> 12  ---> 3  ---> [1, 2, 3, 4, 5, 6, 7, 8, 9, 0]  ---> 6\n"
     ]
    }
   ],
   "source": [
    "sll1.delete_at_strat()"
   ]
  },
  {
   "cell_type": "code",
   "execution_count": 238,
   "metadata": {},
   "outputs": [
    {
     "name": "stdout",
     "output_type": "stream",
     "text": [
      "5  ---> 1  ---> 2  ---> 1.5  ---> 12  ---> 3  ---> [1, 2, 3, 4, 5, 6, 7, 8, 9, 0]\n"
     ]
    }
   ],
   "source": [
    "sll1.delete_at_end()"
   ]
  },
  {
   "cell_type": "code",
   "execution_count": 239,
   "metadata": {},
   "outputs": [
    {
     "name": "stdout",
     "output_type": "stream",
     "text": [
      "5  ---> 1  ---> 2  ---> 1.5  ---> 12  ---> 3\n"
     ]
    },
    {
     "data": {
      "text/plain": [
       "6"
      ]
     },
     "execution_count": 239,
     "metadata": {},
     "output_type": "execute_result"
    }
   ],
   "source": [
    "sll1.delete_at_index(5)\n",
    "len(sll1)"
   ]
  },
  {
   "cell_type": "code",
   "execution_count": 240,
   "metadata": {},
   "outputs": [
    {
     "data": {
      "text/plain": [
       "True"
      ]
     },
     "execution_count": 240,
     "metadata": {},
     "output_type": "execute_result"
    }
   ],
   "source": [
    "sll1.is_present(1.5)"
   ]
  },
  {
   "cell_type": "code",
   "execution_count": 241,
   "metadata": {},
   "outputs": [
    {
     "data": {
      "text/plain": [
       "'NA'"
      ]
     },
     "execution_count": 241,
     "metadata": {},
     "output_type": "execute_result"
    }
   ],
   "source": [
    "sll1.element_at_index(5.3)"
   ]
  },
  {
   "cell_type": "code",
   "execution_count": 242,
   "metadata": {},
   "outputs": [
    {
     "name": "stdout",
     "output_type": "stream",
     "text": [
      "3  ---> 12  ---> 1.5  ---> 2  ---> 1  ---> 5\n"
     ]
    }
   ],
   "source": [
    "sll1.reverse_print()"
   ]
  }
 ],
 "metadata": {
  "kernelspec": {
   "display_name": "Python 3",
   "language": "python",
   "name": "python3"
  },
  "language_info": {
   "codemirror_mode": {
    "name": "ipython",
    "version": 3
   },
   "file_extension": ".py",
   "mimetype": "text/x-python",
   "name": "python",
   "nbconvert_exporter": "python",
   "pygments_lexer": "ipython3",
   "version": "3.13.0"
  }
 },
 "nbformat": 4,
 "nbformat_minor": 2
}
