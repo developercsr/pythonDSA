{
 "cells": [
  {
   "cell_type": "code",
   "execution_count": 54,
   "metadata": {},
   "outputs": [],
   "source": [
    "class Node:\n",
    "    def __init__(self,data):\n",
    "        self.data=data\n",
    "        self.next=None\n",
    "    def __str__(self):\n",
    "        return str(self.data)"
   ]
  },
  {
   "cell_type": "code",
   "execution_count": 55,
   "metadata": {},
   "outputs": [
    {
     "name": "stdout",
     "output_type": "stream",
     "text": [
      "None\n"
     ]
    }
   ],
   "source": [
    "a=Node(1)\n",
    "print(a.next)"
   ]
  },
  {
   "cell_type": "code",
   "execution_count": 84,
   "metadata": {},
   "outputs": [],
   "source": [
    "class cll:\n",
    "    _instance=None\n",
    "    def __init__(self):\n",
    "        self.head=None\n",
    "\n",
    "    def __new__(self):\n",
    "        print(self._instance)\n",
    "        if self._instance is None:\n",
    "            self._instance = super(cll, self).__new__(self)\n",
    "            self._instance.head = None\n",
    "        else:\n",
    "            print(\"Linked list already exists! Using the existing instance.\")\n",
    "        return self._instance\n",
    "\n",
    "    def __len__(self):\n",
    "        length=1\n",
    "        if self.head==None:\n",
    "            self.head.next=self.head\n",
    "            return 0\n",
    "        else:\n",
    "            temp=self.head.next\n",
    "            if(temp==self.head):\n",
    "                return length\n",
    "            while temp:\n",
    "                length+=1\n",
    "                temp=temp.next\n",
    "        return length\n",
    "\n",
    "    def appending_at_strat(self,fnode):\n",
    "        if self.head==None:\n",
    "            self.head=fnode\n",
    "            fnode.next=self.head\n",
    "        else:\n",
    "            temp=self.head\n",
    "            self.head=fnode\n",
    "            fnode.next=temp\n",
    "        self.transverse()\n",
    "\n",
    "    def append_at_last(self,lnode):\n",
    "        if (len(self)==0):\n",
    "            self.head=lnode\n",
    "        elif(len(self)==1):\n",
    "            self.head.next=lnode\n",
    "        else:\n",
    "            temp=self.head\n",
    "            while temp.next:\n",
    "                temp=temp.next\n",
    "            temp.next=lnode\n",
    "        self.transverse()\n",
    "\n",
    "    def is_present(self,val):\n",
    "        temp=self.head\n",
    "        while temp:\n",
    "            if temp.data==val:\n",
    "                return True\n",
    "            temp=temp.next\n",
    "        return False\n",
    "\n",
    "    def inserting_in_middle(self,node,index):\n",
    "        length=len(self)\n",
    "        if(index==0):\n",
    "            self.appending_at_strat(node)\n",
    "        elif(index==length):\n",
    "            self.append_at_last(node)\n",
    "        elif(index>length+1):\n",
    "            print(\"Not Posiible\")\n",
    "        elif(index<0):\n",
    "            print(\"Negative index is not possible!\")\n",
    "        else:\n",
    "            temp=self.head\n",
    "            index_pointer=1\n",
    "            while temp.next:\n",
    "                if(index_pointer==index):\n",
    "                    break\n",
    "                temp=temp.next\n",
    "                index_pointer+=1\n",
    "            orginal=temp.next\n",
    "            temp.next=node\n",
    "            node.next=orginal\n",
    "            self.transverse()\n",
    "\n",
    "    def delete_at_strat(self):\n",
    "        temp=self.head\n",
    "        self.head=temp.next\n",
    "        del temp\n",
    "        self.transverse()\n",
    "\n",
    "    def delete_at_end(self):\n",
    "        temp=self.head\n",
    "        while temp.next.next:\n",
    "            temp=temp.next\n",
    "        temp.next=None\n",
    "        self.transverse()\n",
    "\n",
    "    def delete_at_index(self,index):\n",
    "        if(index==0):\n",
    "            self.delete_at_strat()\n",
    "        elif(index==len(self)-1):\n",
    "            self.delete_at_end()\n",
    "        elif(index<0 or index>=len(self)):\n",
    "            print(\"NOT POSSIBLE\")\n",
    "        else:\n",
    "            temp=self.head\n",
    "            index_pointer=1\n",
    "            while temp:\n",
    "                if(index_pointer>index):\n",
    "                    break\n",
    "                temp=temp.next\n",
    "                index_pointer+=1\n",
    "            temp.next=temp.next.next\n",
    "            self.transverse()\n",
    "\n",
    "    def delete_cll(self):\n",
    "        try:\n",
    "            del self\n",
    "            print(\"deleted Successfully !\")\n",
    "        except Exception as e:\n",
    "            print(\"Error Occured!\"+str(e))\n",
    "\n",
    "    def transverse(self):\n",
    "        if self.head==None:\n",
    "            print(\"Single Linked List is Empty! \")\n",
    "        else:\n",
    "            temp=self.head.next\n",
    "            print(temp,\" <---> \",end=\"\")\n",
    "            while temp!=self.head:\n",
    "                print(temp.data,\" <---> \",end=\"\")\n",
    "                temp=temp.next\n",
    "            print(self.head)\n",
    "\n",
    "    def element_at_index(self,val):\n",
    "        temp=self.head\n",
    "        index_at=0\n",
    "        while temp:\n",
    "            if temp.data==val:\n",
    "                return index_at\n",
    "            index_at+=1\n",
    "            temp=temp.next\n",
    "        return \"NA\"\n",
    "\n",
    "    def reverse_print(self):\n",
    "        previous = None\n",
    "        current = self.head\n",
    "        while current:\n",
    "            next_node = current.next\n",
    "            current.next = previous\n",
    "            previous = current\n",
    "            current = next_node\n",
    "        self.head = previous\n",
    "        self.transverse()"
   ]
  },
  {
   "cell_type": "code",
   "execution_count": 85,
   "metadata": {},
   "outputs": [
    {
     "name": "stdout",
     "output_type": "stream",
     "text": [
      "None\n"
     ]
    }
   ],
   "source": [
    "cll1=cll()"
   ]
  },
  {
   "cell_type": "code",
   "execution_count": 86,
   "metadata": {},
   "outputs": [],
   "source": [
    "n1=Node(1)"
   ]
  },
  {
   "cell_type": "code",
   "execution_count": 90,
   "metadata": {},
   "outputs": [],
   "source": [
    "n2=Node(2)\n",
    "n1.next=n2\n",
    "n2.next=n1"
   ]
  },
  {
   "cell_type": "code",
   "execution_count": 91,
   "metadata": {},
   "outputs": [
    {
     "name": "stdout",
     "output_type": "stream",
     "text": [
      "<__main__.cll object at 0x0000020C287F3230>\n",
      "Linked list already exists! Using the existing instance.\n"
     ]
    }
   ],
   "source": [
    "cll1=cll()"
   ]
  },
  {
   "cell_type": "code",
   "execution_count": 92,
   "metadata": {},
   "outputs": [
    {
     "name": "stdout",
     "output_type": "stream",
     "text": [
      "1\n",
      "2  <---> 2  <---> 1\n"
     ]
    }
   ],
   "source": [
    "cll1.head=n1\n",
    "print(cll1.head)\n",
    "cll1.transverse()"
   ]
  },
  {
   "cell_type": "code",
   "execution_count": null,
   "metadata": {},
   "outputs": [],
   "source": []
  },
  {
   "cell_type": "code",
   "execution_count": 93,
   "metadata": {},
   "outputs": [
    {
     "name": "stdout",
     "output_type": "stream",
     "text": [
      "2  <---> 2  <---> 1\n"
     ]
    }
   ],
   "source": [
    "cll1.transverse()"
   ]
  },
  {
   "cell_type": "code",
   "execution_count": 94,
   "metadata": {},
   "outputs": [
    {
     "name": "stdout",
     "output_type": "stream",
     "text": [
      "<__main__.cll object at 0x0000020C287F3230>\n",
      "Linked list already exists! Using the existing instance.\n"
     ]
    }
   ],
   "source": [
    "cll2=cll()"
   ]
  },
  {
   "cell_type": "code",
   "execution_count": 95,
   "metadata": {},
   "outputs": [
    {
     "name": "stdout",
     "output_type": "stream",
     "text": [
      "Single Linked List is Empty! \n"
     ]
    }
   ],
   "source": [
    "cll2.transverse()"
   ]
  },
  {
   "cell_type": "code",
   "execution_count": null,
   "metadata": {},
   "outputs": [],
   "source": []
  },
  {
   "cell_type": "code",
   "execution_count": null,
   "metadata": {},
   "outputs": [],
   "source": []
  },
  {
   "cell_type": "code",
   "execution_count": null,
   "metadata": {},
   "outputs": [],
   "source": []
  },
  {
   "cell_type": "code",
   "execution_count": null,
   "metadata": {},
   "outputs": [],
   "source": []
  },
  {
   "cell_type": "code",
   "execution_count": null,
   "metadata": {},
   "outputs": [],
   "source": []
  },
  {
   "cell_type": "code",
   "execution_count": null,
   "metadata": {},
   "outputs": [],
   "source": []
  }
 ],
 "metadata": {
  "kernelspec": {
   "display_name": "Python 3",
   "language": "python",
   "name": "python3"
  },
  "language_info": {
   "codemirror_mode": {
    "name": "ipython",
    "version": 3
   },
   "file_extension": ".py",
   "mimetype": "text/x-python",
   "name": "python",
   "nbconvert_exporter": "python",
   "pygments_lexer": "ipython3",
   "version": "3.13.0"
  }
 },
 "nbformat": 4,
 "nbformat_minor": 2
}
