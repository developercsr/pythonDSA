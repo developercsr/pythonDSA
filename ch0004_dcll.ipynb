{
 "cells": [
  {
   "cell_type": "code",
   "execution_count": 1,
   "metadata": {},
   "outputs": [],
   "source": [
    "class Node:\n",
    "    def __init__(self,data):\n",
    "        self.data=data\n",
    "        self.pre=None\n",
    "        self.next=None\n",
    "    def __str__(self):\n",
    "        return str(self.data)"
   ]
  },
  {
   "cell_type": "code",
   "execution_count": null,
   "metadata": {},
   "outputs": [],
   "source": [
    "class Dll:\n",
    "    def __init__(self):\n",
    "        self.head=None\n",
    "    def transverse(self):\n",
    "        if self.head==None:\n",
    "            print(\"DLL is Empty\")\n",
    "        else:\n",
    "            temp=self.head\n",
    "            while temp.next!=None:\n",
    "                print(temp.data,\" ===> \",end=\"\")\n",
    "                temp=temp.next\n",
    "            print(temp.data)\n",
    "\n",
    "    def __len__(self):\n",
    "        length=1\n",
    "        if self.head==None:\n",
    "            return 0\n",
    "        temp=self.head\n",
    "        while temp.next!=None:\n",
    "            length+=1\n",
    "            temp=temp.next\n",
    "        return length\n",
    "    def insert_at_begin(self,data):\n",
    "        if self.head==None:\n",
    "            print(\"DLL is empty just now created !\")\n",
    "            self.head=Node(data)\n",
    "        else:\n",
    "            new_node=Node(data)\n",
    "            temp=self.head\n",
    "            new_node.next=temp\n",
    "            temp.pre=new_node\n",
    "            self.head=new_node\n",
    "    def insert_at_end(self,data):\n",
    "        if self.head==None:\n",
    "            print(\"DLL is empty just now created!\")\n",
    "            self.head=Node(data)\n",
    "        else:\n",
    "            new_node=Node(data)\n",
    "            temp=self.head\n",
    "            while temp.next:\n",
    "                temp=temp.next\n",
    "            temp.next=new_node\n",
    "            new_node.pre=temp\n",
    "    def insert_at_any()\n",
    "        \n",
    "    "
   ]
  },
  {
   "cell_type": "code",
   "execution_count": 73,
   "metadata": {},
   "outputs": [],
   "source": [
    "dll1=Dll()"
   ]
  },
  {
   "cell_type": "code",
   "execution_count": 74,
   "metadata": {},
   "outputs": [],
   "source": [
    "a=Node(1)\n",
    "b=Node(2)\n",
    "b.pre=a\n",
    "a.next=b"
   ]
  },
  {
   "cell_type": "code",
   "execution_count": 75,
   "metadata": {},
   "outputs": [],
   "source": [
    "dll1.head=a"
   ]
  },
  {
   "cell_type": "code",
   "execution_count": 76,
   "metadata": {},
   "outputs": [
    {
     "data": {
      "text/plain": [
       "2"
      ]
     },
     "execution_count": 76,
     "metadata": {},
     "output_type": "execute_result"
    }
   ],
   "source": [
    "dll1.__len__()"
   ]
  },
  {
   "cell_type": "code",
   "execution_count": 77,
   "metadata": {},
   "outputs": [
    {
     "name": "stdout",
     "output_type": "stream",
     "text": [
      "1  ===> 2\n"
     ]
    }
   ],
   "source": [
    "dll1.transverse()"
   ]
  },
  {
   "cell_type": "code",
   "execution_count": 83,
   "metadata": {},
   "outputs": [],
   "source": [
    "dll1.insert_at_begin(0.7)\n",
    "dll1.insert_at_begin(0.6)"
   ]
  },
  {
   "cell_type": "code",
   "execution_count": 84,
   "metadata": {},
   "outputs": [
    {
     "name": "stdout",
     "output_type": "stream",
     "text": [
      "0.6  ===> 0.7  ===> 0.8  ===> 0.9  ===> 1  ===> 2  ===> 3  ===> 4  ===> 5\n"
     ]
    }
   ],
   "source": [
    "dll1.transverse()"
   ]
  },
  {
   "cell_type": "code",
   "execution_count": 85,
   "metadata": {},
   "outputs": [
    {
     "name": "stdout",
     "output_type": "stream",
     "text": [
      "0.6  ===> 0.7  ===> 0.8  ===> 0.9  ===> 1  ===> 2  ===> 3  ===> 4  ===> 5  ===> 5\n"
     ]
    }
   ],
   "source": [
    "dll1.insert_at_end(5)\n",
    "dll1.transverse()"
   ]
  },
  {
   "cell_type": "code",
   "execution_count": null,
   "metadata": {},
   "outputs": [],
   "source": []
  }
 ],
 "metadata": {
  "kernelspec": {
   "display_name": "Python 3",
   "language": "python",
   "name": "python3"
  },
  "language_info": {
   "codemirror_mode": {
    "name": "ipython",
    "version": 3
   },
   "file_extension": ".py",
   "mimetype": "text/x-python",
   "name": "python",
   "nbconvert_exporter": "python",
   "pygments_lexer": "ipython3",
   "version": "3.13.0"
  }
 },
 "nbformat": 4,
 "nbformat_minor": 2
}
