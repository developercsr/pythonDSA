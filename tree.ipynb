{
 "cells": [
  {
   "cell_type": "code",
   "execution_count": 76,
   "metadata": {},
   "outputs": [],
   "source": [
    "#Normal basic tree structures in python\n",
    "class Node:\n",
    "    def __init__(self,data):\n",
    "        self.data=data\n",
    "        self.kids=[]\n",
    "        self.parent=None\n",
    "        \n",
    "    def addKids(self,kid):\n",
    "        kid.parent=self\n",
    "        self.kids.append(kid)\n"
   ]
  },
  {
   "cell_type": "code",
   "execution_count": 77,
   "metadata": {},
   "outputs": [],
   "source": [
    "class Tree:\n",
    "    def __init__(self):\n",
    "        self.root=None\n",
    "    def transverse(self):\n",
    "        if self.root==None:\n",
    "            return \"The Tree is Empty\"\n",
    "        else:\n",
    "            temp=self.root\n",
    "            for i in  temp.kids:\n",
    "                i.transverse()"
   ]
  },
  {
   "cell_type": "code",
   "execution_count": 78,
   "metadata": {},
   "outputs": [],
   "source": [
    "tree=Tree()\n",
    "Gadgets=Node(\"Gadgets\")\n",
    "electronics=Node(\"electronics\")\n",
    "mobile=Node(\"Mobile\")\n",
    "earphones=Node(\"earphones\")\n",
    "plastics=Node(\"plastics\")\n",
    "bucket=Node(\"Bucket\")\n",
    "brush=Node(\"brush\")\n"
   ]
  },
  {
   "cell_type": "code",
   "execution_count": 79,
   "metadata": {},
   "outputs": [
    {
     "ename": "AttributeError",
     "evalue": "'Node' object has no attribute 'transverse'",
     "output_type": "error",
     "traceback": [
      "\u001b[1;31m---------------------------------------------------------------------------\u001b[0m",
      "\u001b[1;31mAttributeError\u001b[0m                            Traceback (most recent call last)",
      "Cell \u001b[1;32mIn[79], line 8\u001b[0m\n\u001b[0;32m      6\u001b[0m plastics\u001b[38;5;241m.\u001b[39maddKids(brush)\n\u001b[0;32m      7\u001b[0m tree\u001b[38;5;241m.\u001b[39mroot\u001b[38;5;241m=\u001b[39mGadgets\n\u001b[1;32m----> 8\u001b[0m \u001b[43mtree\u001b[49m\u001b[38;5;241;43m.\u001b[39;49m\u001b[43mtransverse\u001b[49m\u001b[43m(\u001b[49m\u001b[43m)\u001b[49m\n",
      "Cell \u001b[1;32mIn[77], line 10\u001b[0m, in \u001b[0;36mTree.transverse\u001b[1;34m(self)\u001b[0m\n\u001b[0;32m      8\u001b[0m temp\u001b[38;5;241m=\u001b[39m\u001b[38;5;28mself\u001b[39m\u001b[38;5;241m.\u001b[39mroot\n\u001b[0;32m      9\u001b[0m \u001b[38;5;28;01mfor\u001b[39;00m i \u001b[38;5;129;01min\u001b[39;00m  temp\u001b[38;5;241m.\u001b[39mkids:\n\u001b[1;32m---> 10\u001b[0m     \u001b[43mi\u001b[49m\u001b[38;5;241;43m.\u001b[39;49m\u001b[43mtransverse\u001b[49m()\n",
      "\u001b[1;31mAttributeError\u001b[0m: 'Node' object has no attribute 'transverse'"
     ]
    }
   ],
   "source": [
    "Gadgets.addKids(electronics)\n",
    "Gadgets.addKids(plastics)\n",
    "electronics.addKids(earphones)\n",
    "electronics.addKids(mobile)\n",
    "plastics.addKids(bucket)\n",
    "plastics.addKids(brush)\n",
    "tree.root=Gadgets\n",
    "tree.transverse()\n"
   ]
  },
  {
   "cell_type": "code",
   "execution_count": 80,
   "metadata": {},
   "outputs": [],
   "source": [
    "class Tree:\n",
    "    def __init__(self):\n",
    "        self.root=None"
   ]
  },
  {
   "cell_type": "code",
   "execution_count": 81,
   "metadata": {},
   "outputs": [],
   "source": [
    "#Binary Tree\n",
    "# Having atmost 2 children 0,1,2\n",
    "# Types:\n",
    "# complete binary tree or strictly binary tree\n",
    "# Almost complte binary tree or incomplte binary tree\n",
    "# complte bnary tree or perfect binary tree\n",
    "# left skeviwed binary tree or right skewed binary tree\n",
    "# right skewed binary tree"
   ]
  },
  {
   "cell_type": "code",
   "execution_count": 82,
   "metadata": {},
   "outputs": [],
   "source": [
    "# binary tree: every node should have atmost 2 kids\n",
    "# strictly binary/full binary tree : every parent must have 2 children excpet child nodes \n",
    "# incomplte/almost binary tree : Every node must have 2 kids in all levels except in last level but filled from the left\n",
    "# perfect/complete binary tree : every node must have 2 kids in all levels \n",
    "#         2^L nodes should be there for L-leves \n",
    "# left skewed binary treee : every node must have left skewed kid\n",
    "# right skewed binary tree : every node must have right skewed kid"
   ]
  },
  {
   "cell_type": "code",
   "execution_count": 83,
   "metadata": {},
   "outputs": [],
   "source": [
    "# AVL TREE\n",
    "# 1. A tree which is binary and binary serach tree\n",
    "# 2. obey self balancing => Heights of left and right should be balanced\n",
    "# 3. Height of left sub tree- height of right sub tree should be equal to 1,-1,0"
   ]
  },
  {
   "cell_type": "code",
   "execution_count": 84,
   "metadata": {},
   "outputs": [],
   "source": [
    "class Node:\n",
    "    def __init__(self,data):\n",
    "        self.data=data\n",
    "        self.right=None\n",
    "        self.left=None\n",
    "    def __str__(self):\n",
    "        return str(self.data)"
   ]
  },
  {
   "cell_type": "code",
   "execution_count": 85,
   "metadata": {},
   "outputs": [
    {
     "name": "stdout",
     "output_type": "stream",
     "text": [
      "1\n"
     ]
    }
   ],
   "source": [
    "root=Node(1)\n",
    "print(root)"
   ]
  },
  {
   "cell_type": "code",
   "execution_count": 86,
   "metadata": {},
   "outputs": [],
   "source": [
    "#Binary tree\n",
    "class Node:\n",
    "    def __init__(self,value):\n",
    "        self.data=value\n",
    "        self.right=None\n",
    "        self.left=None\n",
    "\n",
    "class BinaryTree:\n",
    "    def __init__(self,root):\n",
    "        self.root=Node(root)\n",
    "    def print_tree(self,tranverse_type=\"preorder\"):\n",
    "        if tranverse_type==\"preorder\":\n",
    "            return self.preorderTranversal(self.root,\"\")\n",
    "        elif tranverse_type==\"inorder\":\n",
    "            return self.inorderTransversal(self.root,\"\")\n",
    "        elif tranverse_type==\"postorder\":\n",
    "            return self.postorderTransversal(self.root,\"\")\n",
    "    \n",
    "    def preorderTranversal(self,root,transversal):\n",
    "        # root > left > right\n",
    "        if root:\n",
    "            transversal+=str(root.data)+\" - \"\n",
    "            transversal=self.preorderTranversal(root.left,transversal)\n",
    "            transversal=self.preorderTranversal(root.right,transversal)\n",
    "        return transversal\n",
    "    \n",
    "    def inorderTransversal(self,root,tranversal):\n",
    "        # left > root > rigt\n",
    "        if root:\n",
    "            tranversal=self.inorderTransversal(root.left,tranversal)\n",
    "            tranversal+=str(root.data)\n",
    "            tranversal=self.inorderTransversal(root.right,tranversal)\n",
    "        return tranversal\n",
    "    def postorderTransversal(self,root,transversal):\n",
    "        #Left > Right >root\n",
    "        if root:\n",
    "            transversal=self.postorderTransversal(root.left,transversal)\n",
    "            transversal=self.postorderTransversal(root.right,transversal)\n",
    "            transversal+=str(root.data)\n",
    "        return transversal\n",
    "    def print_normal(self):\n",
    "        pass\n",
    "            "
   ]
  },
  {
   "cell_type": "code",
   "execution_count": 87,
   "metadata": {},
   "outputs": [],
   "source": [
    "tree=BinaryTree(1)\n",
    "tree.root.left=Node(2)\n",
    "tree.root.right=Node(3)\n",
    "tree.root.left.left=Node(4)\n",
    "tree.root.left.right=Node(5)\n",
    "tree.root.right.left=Node(6)\n",
    "tree.root.right.right=Node(7)"
   ]
  },
  {
   "cell_type": "code",
   "execution_count": 88,
   "metadata": {},
   "outputs": [
    {
     "data": {
      "text/plain": [
       "'1 - 2 - 4 - 5 - 3 - 6 - 7 - '"
      ]
     },
     "execution_count": 88,
     "metadata": {},
     "output_type": "execute_result"
    }
   ],
   "source": [
    "tree.print_tree()"
   ]
  },
  {
   "cell_type": "code",
   "execution_count": 89,
   "metadata": {},
   "outputs": [
    {
     "data": {
      "text/plain": [
       "'4251637'"
      ]
     },
     "execution_count": 89,
     "metadata": {},
     "output_type": "execute_result"
    }
   ],
   "source": [
    "tree.print_tree(\"inorder\")"
   ]
  },
  {
   "cell_type": "code",
   "execution_count": 90,
   "metadata": {},
   "outputs": [
    {
     "data": {
      "text/plain": [
       "'4526731'"
      ]
     },
     "execution_count": 90,
     "metadata": {},
     "output_type": "execute_result"
    }
   ],
   "source": [
    "tree.print_tree(\"postorder\")"
   ]
  },
  {
   "cell_type": "code",
   "execution_count": 37,
   "metadata": {},
   "outputs": [],
   "source": [
    "# normla tree\n",
    "class Node:\n",
    "    def __init__(self,data):\n",
    "        self.data=data\n",
    "        self.children=[]\n",
    "        self.parent=None\n",
    "\n",
    "class NormalTree:\n",
    "    def __init__(self,data):\n",
    "        self.root=Node(data)\n",
    "\n",
    "    def addkid(self,parent,kid):\n",
    "        if parent is None:\n",
    "            print(type(parent))\n",
    "            print(f\"As parent is not mention new tree is created with root {kid}\")\n",
    "            kid=Node(kid)\n",
    "            return kid\n",
    "        else :\n",
    "            print(f\"Adding {kid} to the {parent.data}\")\n",
    "            node=Node(kid)\n",
    "            node.parent=parent\n",
    "            parent.children.append(node)\n",
    "            return node\n",
    "    def print_tree(self,node=root,indent=0):\n",
    "        print(\"->\"*indent+str(node.data))\n",
    "        for i in node.children:\n",
    "            indent+=2\n",
    "            self.print_tree(i,indent)\n",
    "            indent-=2\n",
    "            \n",
    "\n",
    "    def find_node_height(self,node):\n",
    "        pass\n",
    "    def find_node_depth(self,node):\n",
    "        pass\n",
    "    def find_level_of_node(self,node):\n",
    "        pass\n"
   ]
  },
  {
   "cell_type": "code",
   "execution_count": 38,
   "metadata": {},
   "outputs": [
    {
     "name": "stdout",
     "output_type": "stream",
     "text": [
      "Adding 1 to the 1\n",
      "Adding 2 to the 1\n",
      "Adding 3 to the 1\n",
      "Adding 4 to the 1\n",
      "Adding 5 to the 1\n",
      "Adding 6 to the 1\n",
      "Adding 7 to the 1\n",
      "Adding 8 to the 1\n",
      "Adding 9 to the 2\n",
      "Adding 10 to the 2\n"
     ]
    }
   ],
   "source": [
    "root=NormalTree(1)\n",
    "k11=root.addkid(root.root,1)\n",
    "k12=root.addkid(root.root,2)\n",
    "k13=root.addkid(root.root,3)\n",
    "k14=root.addkid(root.root,4)\n",
    "k15=root.addkid(root.root,5)\n",
    "k16=root.addkid(root.root,6)\n",
    "k17=root.addkid(root.root,7)\n",
    "k21=root.addkid(k11,8)\n",
    "k22=root.addkid(k12,9)\n",
    "k23=root.addkid(k12,10)\n"
   ]
  },
  {
   "cell_type": "code",
   "execution_count": 39,
   "metadata": {},
   "outputs": [
    {
     "name": "stdout",
     "output_type": "stream",
     "text": [
      "1\n",
      "->->1\n",
      "->->->->8\n",
      "->->2\n",
      "->->->->9\n",
      "->->->->10\n",
      "->->3\n",
      "->->4\n",
      "->->5\n",
      "->->6\n",
      "->->7\n"
     ]
    }
   ],
   "source": [
    "root.print_tree(root.root)"
   ]
  },
  {
   "cell_type": "code",
   "execution_count": 44,
   "metadata": {},
   "outputs": [
    {
     "name": "stdout",
     "output_type": "stream",
     "text": [
      "2\n",
      "->->9\n",
      "->->10\n"
     ]
    }
   ],
   "source": [
    "root.print_tree(k12)"
   ]
  },
  {
   "cell_type": "code",
   "execution_count": null,
   "metadata": {},
   "outputs": [],
   "source": [
    "# #Binary Serach Tree\n",
    "# 1. Every node must have atmost 2 kids\n",
    "# 2. Binary Tree+Binary Search = Binary Search Tree\n",
    "# 3. All left < Root < ALl Right"
   ]
  },
  {
   "cell_type": "code",
   "execution_count": null,
   "metadata": {},
   "outputs": [],
   "source": [
    "class BSTNode:\n",
    "    def __init__(self,data):\n",
    "        self.data=data\n",
    "        self.left=None\n",
    "        self.right=None\n",
    "        self.parent=None\n",
    "class BST:\n",
    "    def __init__(self):\n",
    "        self.root=None\n",
    "    \n",
    "    def transverse(self,node,indent=0):\n",
    "        if node is None:\n",
    "            return\n",
    "        print(node.data)\n",
    "        indent+=2\n",
    "        self.transverse(node.left,indent)\n",
    "        indent-=2\n",
    "        self.transverse(node.right,indent)\n",
    "        return\n",
    "\n",
    "\n",
    "    \n",
    "    def insert(self,node,data):\n",
    "        if self.root is None:\n",
    "            self.root=BSTNode(data)\n",
    "            print(f\"The Tree is none, That's we are creating a new node with root Value {data}\")\n",
    "            return\n",
    "        else:\n",
    "            if (data < node.right.data):\n",
    "                \n",
    "    def __str__(self):\n",
    "        return str(self.root)\n"
   ]
  },
  {
   "cell_type": "code",
   "execution_count": null,
   "metadata": {},
   "outputs": [
    {
     "name": "stdout",
     "output_type": "stream",
     "text": [
      "<__main__.BSTNode object at 0x0000015B0792CC20>\n"
     ]
    }
   ],
   "source": [
    "a1=BSTNode(1)\n",
    "a2=BSTNode(2)\n",
    "a3=BSTNode(3)\n",
    "a4=BSTNode(4)\n",
    "a5=BSTNode(5)\n",
    "bst=BST()\n",
    "bst.root=a1\n",
    "print(bst)\n"
   ]
  },
  {
   "cell_type": "code",
   "execution_count": 87,
   "metadata": {},
   "outputs": [
    {
     "name": "stdout",
     "output_type": "stream",
     "text": [
      "1\n"
     ]
    }
   ],
   "source": [
    "# print(bst.root)\n",
    "bst.transverse(bst.root)"
   ]
  },
  {
   "cell_type": "code",
   "execution_count": null,
   "metadata": {},
   "outputs": [],
   "source": []
  },
  {
   "cell_type": "code",
   "execution_count": null,
   "metadata": {},
   "outputs": [],
   "source": []
  },
  {
   "cell_type": "code",
   "execution_count": null,
   "metadata": {},
   "outputs": [],
   "source": []
  },
  {
   "cell_type": "code",
   "execution_count": null,
   "metadata": {},
   "outputs": [],
   "source": [
    "# 1. AVL tree is Binary Search Tree\n",
    "# 2. Height of left sub tree- Height of right sub tree ===[1, -1, 0]\n",
    "# 3. To balance unbalanced tree we follow 3 types of processes \n",
    "#     1. left-left rot || 2. right-right rot || 3. LR rot || 4. RL rot\n",
    "\n",
    "#Problem : Make an AVL tree with the List =[14,17,11,7,53,4,13,12,8,60,19,16,20]"
   ]
  },
  {
   "cell_type": "code",
   "execution_count": null,
   "metadata": {},
   "outputs": [],
   "source": [
    "class Node:\n",
    "    def __init__(self,data):\n",
    "        self.data=data\n",
    "        self.left=None\n",
    "        self.right=None\n",
    "        self.parent=None\n",
    "        self.height=1\n",
    "\n",
    "class AVLtree:\n",
    "    def __init__(self):\n",
    "        self.root=None\n",
    "    def insert(self,data):\n",
    "        pass\n",
    "    def height_of_left_subtree(self):\n",
    "        pass\n",
    "    def height_of_right_subtree(self):\n",
    "        pass\n",
    "    def balanceme(self):\n",
    "        pass\n",
    "    def transverse(Self):\n",
    "        pass"
   ]
  },
  {
   "cell_type": "code",
   "execution_count": null,
   "metadata": {},
   "outputs": [],
   "source": [
    "#Binary Search Tree in python\n",
    "class TreeNode:\n",
    "    def __init__(self,data):\n",
    "        self.data=data\n",
    "        self.right=None\n",
    "        self.left=None\n",
    "class BST:\n",
    "    def __init__(self):\n",
    "        self.root=None\n",
    "\n",
    "    def tranverse(self,root,indent=0):\n",
    "        if not root:\n",
    "            return\n",
    "        print(\" \"*indent,root.data)\n",
    "        indent+=2\n",
    "        self.tranverse(root.left,indent)\n",
    "        self.tranverse(root.right,indent)\n",
    "    def insert(self,node=root,data):\n",
    "        new_node=TreeNode(data)\n",
    "        while True:\n",
    "            if self.root==None:\n",
    "                print(f'No tree is there so intiated with TreeNode as {data}')\n",
    "                return\n",
    "            else:\n",
    "                if node.data==data:\n",
    "                    print(\"No dplicates are allowed!\")\n",
    "                    return\n",
    "                elif node.data>data:\n",
    "\n",
    "        \n"
   ]
  },
  {
   "cell_type": "code",
   "execution_count": 114,
   "metadata": {},
   "outputs": [],
   "source": [
    "n1=Node(7)\n",
    "n2=Node(3)\n",
    "n3=Node(1)\n",
    "n4=Node(5)\n",
    "n5=Node(13)\n",
    "n6=Node(10)\n",
    "n7=Node(15)\n",
    "n1.left=n2\n",
    "n1.right=n5\n",
    "n2.left=n3\n",
    "n2.right=n4\n",
    "n5.left=n6\n",
    "n5.right=n7\n",
    "bst=BST()\n",
    "bst.root=n1"
   ]
  },
  {
   "cell_type": "code",
   "execution_count": 115,
   "metadata": {},
   "outputs": [
    {
     "name": "stdout",
     "output_type": "stream",
     "text": [
      " 7\n",
      "   3\n",
      "     1\n",
      "     5\n",
      "   13\n",
      "     10\n",
      "     15\n"
     ]
    }
   ],
   "source": [
    "bst.tranverse(bst.root)"
   ]
  },
  {
   "cell_type": "code",
   "execution_count": null,
   "metadata": {},
   "outputs": [],
   "source": []
  }
 ],
 "metadata": {
  "kernelspec": {
   "display_name": "Python 3",
   "language": "python",
   "name": "python3"
  },
  "language_info": {
   "codemirror_mode": {
    "name": "ipython",
    "version": 3
   },
   "file_extension": ".py",
   "mimetype": "text/x-python",
   "name": "python",
   "nbconvert_exporter": "python",
   "pygments_lexer": "ipython3",
   "version": "3.13.0"
  }
 },
 "nbformat": 4,
 "nbformat_minor": 2
}
